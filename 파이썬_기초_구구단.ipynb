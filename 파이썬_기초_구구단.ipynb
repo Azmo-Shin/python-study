{
 "cells": [
  {
   "cell_type": "code",
   "execution_count": 5,
   "metadata": {},
   "outputs": [
    {
     "name": "stdout",
     "output_type": "stream",
     "text": [
      "True\n"
     ]
    }
   ],
   "source": [
    "a = True\n",
    "if a:\n",
    "    print(\"True\")\n",
    "else:\n",
    "    print(\"False\")"
   ]
  },
  {
   "cell_type": "code",
   "execution_count": 6,
   "metadata": {},
   "outputs": [
    {
     "data": {
      "text/plain": [
       "[0, 1, 2, 3, 4, 5, 6, 7, 8, 9]"
      ]
     },
     "execution_count": 6,
     "metadata": {},
     "output_type": "execute_result"
    }
   ],
   "source": [
    "list(range(10))"
   ]
  },
  {
   "cell_type": "code",
   "execution_count": 9,
   "metadata": {},
   "outputs": [
    {
     "data": {
      "text/plain": [
       "[0, 1, 2, 3, 4, 5, 6, 7, 8, 9]"
      ]
     },
     "execution_count": 9,
     "metadata": {},
     "output_type": "execute_result"
    }
   ],
   "source": [
    "list(range(0, 10))"
   ]
  },
  {
   "cell_type": "code",
   "execution_count": 10,
   "metadata": {},
   "outputs": [
    {
     "data": {
      "text/plain": [
       "[0, 2, 4, 6, 8]"
      ]
     },
     "execution_count": 10,
     "metadata": {},
     "output_type": "execute_result"
    }
   ],
   "source": [
    "list(range(0,10,2))"
   ]
  },
  {
   "cell_type": "code",
   "execution_count": 11,
   "metadata": {},
   "outputs": [
    {
     "data": {
      "text/plain": [
       "[1, 3, 5, 7, 9]"
      ]
     },
     "execution_count": 11,
     "metadata": {},
     "output_type": "execute_result"
    }
   ],
   "source": [
    "list(range(1, 10, 2))"
   ]
  },
  {
   "cell_type": "code",
   "execution_count": 12,
   "metadata": {},
   "outputs": [],
   "source": [
    "num = list(range(1,11))"
   ]
  },
  {
   "cell_type": "code",
   "execution_count": 18,
   "metadata": {},
   "outputs": [
    {
     "name": "stdout",
     "output_type": "stream",
     "text": [
      "1\n",
      "2\n",
      "3\n",
      "4\n",
      "5\n",
      "6\n",
      "7\n",
      "8\n",
      "9\n",
      "10\n"
     ]
    }
   ],
   "source": [
    "for i in num:\n",
    "    print(i)"
   ]
  },
  {
   "cell_type": "code",
   "execution_count": 19,
   "metadata": {},
   "outputs": [
    {
     "data": {
      "text/plain": [
       "[1, 2, 3, 4, 5, 6, 7, 8, 9, 10]"
      ]
     },
     "execution_count": 19,
     "metadata": {},
     "output_type": "execute_result"
    }
   ],
   "source": [
    "num"
   ]
  },
  {
   "cell_type": "code",
   "execution_count": 46,
   "metadata": {},
   "outputs": [
    {
     "name": "stdout",
     "output_type": "stream",
     "text": [
      "3 * 1 = 3\n",
      "3 * 2 = 6\n",
      "3 * 3 = 9\n",
      "3 * 4 = 12\n",
      "3 * 5 = 15\n",
      "3 * 6 = 18\n",
      "3 * 7 = 21\n",
      "3 * 8 = 24\n",
      "3 * 9 = 27\n"
     ]
    }
   ],
   "source": [
    "num = 3\n",
    "for i in range(1,10):\n",
    "    print(f'{num} * {i} = {num * i}')"
   ]
  },
  {
   "cell_type": "code",
   "execution_count": 45,
   "metadata": {
    "scrolled": true
   },
   "outputs": [
    {
     "name": "stdout",
     "output_type": "stream",
     "text": [
      "1 * 2 = 27\n",
      "1 * 3 = 27\n",
      "1 * 4 = 27\n",
      "1 * 5 = 27\n",
      "1 * 6 = 27\n",
      "1 * 7 = 27\n",
      "1 * 8 = 27\n",
      "1 * 9 = 27\n",
      "2 * 2 = 27\n",
      "2 * 3 = 27\n",
      "2 * 4 = 27\n",
      "2 * 5 = 27\n",
      "2 * 6 = 27\n",
      "2 * 7 = 27\n",
      "2 * 8 = 27\n",
      "2 * 9 = 27\n",
      "3 * 2 = 27\n",
      "3 * 3 = 27\n",
      "3 * 4 = 27\n",
      "3 * 5 = 27\n",
      "3 * 6 = 27\n",
      "3 * 7 = 27\n",
      "3 * 8 = 27\n",
      "3 * 9 = 27\n",
      "4 * 2 = 27\n",
      "4 * 3 = 27\n",
      "4 * 4 = 27\n",
      "4 * 5 = 27\n",
      "4 * 6 = 27\n",
      "4 * 7 = 27\n",
      "4 * 8 = 27\n",
      "4 * 9 = 27\n",
      "5 * 2 = 27\n",
      "5 * 3 = 27\n",
      "5 * 4 = 27\n",
      "5 * 5 = 27\n",
      "5 * 6 = 27\n",
      "5 * 7 = 27\n",
      "5 * 8 = 27\n",
      "5 * 9 = 27\n",
      "6 * 2 = 27\n",
      "6 * 3 = 27\n",
      "6 * 4 = 27\n",
      "6 * 5 = 27\n",
      "6 * 6 = 27\n",
      "6 * 7 = 27\n",
      "6 * 8 = 27\n",
      "6 * 9 = 27\n",
      "7 * 2 = 27\n",
      "7 * 3 = 27\n",
      "7 * 4 = 27\n",
      "7 * 5 = 27\n",
      "7 * 6 = 27\n",
      "7 * 7 = 27\n",
      "7 * 8 = 27\n",
      "7 * 9 = 27\n",
      "8 * 2 = 27\n",
      "8 * 3 = 27\n",
      "8 * 4 = 27\n",
      "8 * 5 = 27\n",
      "8 * 6 = 27\n",
      "8 * 7 = 27\n",
      "8 * 8 = 27\n",
      "8 * 9 = 27\n",
      "9 * 2 = 27\n",
      "9 * 3 = 27\n",
      "9 * 4 = 27\n",
      "9 * 5 = 27\n",
      "9 * 6 = 27\n",
      "9 * 7 = 27\n",
      "9 * 8 = 27\n",
      "9 * 9 = 27\n"
     ]
    }
   ],
   "source": [
    "for i in range(1,10):\n",
    "    for j in range(2,10):\n",
    "         print(f'{i} * {j} = {answer}')"
   ]
  },
  {
   "cell_type": "code",
   "execution_count": 33,
   "metadata": {
    "scrolled": true
   },
   "outputs": [
    {
     "name": "stdout",
     "output_type": "stream",
     "text": [
      "★ 구구단을 출력합니다.\n",
      "\n",
      "------- [2단] -------\n",
      "2 X 1 = 2\n",
      "2 X 2 = 4\n",
      "2 X 3 = 6\n",
      "2 X 4 = 8\n",
      "2 X 5 = 10\n",
      "2 X 6 = 12\n",
      "2 X 7 = 14\n",
      "2 X 8 = 16\n",
      "2 X 9 = 18\n",
      "------- [3단] -------\n",
      "3 X 1 = 3\n",
      "3 X 2 = 6\n",
      "3 X 3 = 9\n",
      "3 X 4 = 12\n",
      "3 X 5 = 15\n",
      "3 X 6 = 18\n",
      "3 X 7 = 21\n",
      "3 X 8 = 24\n",
      "3 X 9 = 27\n",
      "------- [4단] -------\n",
      "4 X 1 = 4\n",
      "4 X 2 = 8\n",
      "4 X 3 = 12\n",
      "4 X 4 = 16\n",
      "4 X 5 = 20\n",
      "4 X 6 = 24\n",
      "4 X 7 = 28\n",
      "4 X 8 = 32\n",
      "4 X 9 = 36\n",
      "------- [5단] -------\n",
      "5 X 1 = 5\n",
      "5 X 2 = 10\n",
      "5 X 3 = 15\n",
      "5 X 4 = 20\n",
      "5 X 5 = 25\n",
      "5 X 6 = 30\n",
      "5 X 7 = 35\n",
      "5 X 8 = 40\n",
      "5 X 9 = 45\n",
      "------- [6단] -------\n",
      "6 X 1 = 6\n",
      "6 X 2 = 12\n",
      "6 X 3 = 18\n",
      "6 X 4 = 24\n",
      "6 X 5 = 30\n",
      "6 X 6 = 36\n",
      "6 X 7 = 42\n",
      "6 X 8 = 48\n",
      "6 X 9 = 54\n",
      "------- [7단] -------\n",
      "7 X 1 = 7\n",
      "7 X 2 = 14\n",
      "7 X 3 = 21\n",
      "7 X 4 = 28\n",
      "7 X 5 = 35\n",
      "7 X 6 = 42\n",
      "7 X 7 = 49\n",
      "7 X 8 = 56\n",
      "7 X 9 = 63\n",
      "------- [8단] -------\n",
      "8 X 1 = 8\n",
      "8 X 2 = 16\n",
      "8 X 3 = 24\n",
      "8 X 4 = 32\n",
      "8 X 5 = 40\n",
      "8 X 6 = 48\n",
      "8 X 7 = 56\n",
      "8 X 8 = 64\n",
      "8 X 9 = 72\n",
      "------- [9단] -------\n",
      "9 X 1 = 9\n",
      "9 X 2 = 18\n",
      "9 X 3 = 27\n",
      "9 X 4 = 36\n",
      "9 X 5 = 45\n",
      "9 X 6 = 54\n",
      "9 X 7 = 63\n",
      "9 X 8 = 72\n",
      "9 X 9 = 81\n",
      "---------------------\n"
     ]
    }
   ],
   "source": [
    "print(\"★ 구구단을 출력합니다.\\n\")\n",
    "for x in range(2, 10):\n",
    "    print(\"------- [\" + str(x) + \"단] -------\")\n",
    "    for y in range(1, 10):\n",
    "        print(x, \"X\", y, \"=\", x*y)\n",
    "print(\"---------------------\")"
   ]
  },
  {
   "cell_type": "code",
   "execution_count": null,
   "metadata": {},
   "outputs": [],
   "source": []
  }
 ],
 "metadata": {
  "kernelspec": {
   "display_name": "Python 3",
   "language": "python",
   "name": "python3"
  },
  "language_info": {
   "codemirror_mode": {
    "name": "ipython",
    "version": 3
   },
   "file_extension": ".py",
   "mimetype": "text/x-python",
   "name": "python",
   "nbconvert_exporter": "python",
   "pygments_lexer": "ipython3",
   "version": "3.8.3"
  }
 },
 "nbformat": 4,
 "nbformat_minor": 4
}
