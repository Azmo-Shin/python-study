{
 "cells": [
  {
   "cell_type": "code",
   "execution_count": 1,
   "metadata": {},
   "outputs": [],
   "source": [
    "import os\n",
    "import sys\n",
    "import urllib.request\n",
    "from urllib.parse import *\n",
    "import requests\n",
    "from bs4 import BeautifulSoup\n",
    "import json\n",
    "import re"
   ]
  },
  {
   "cell_type": "code",
   "execution_count": 2,
   "metadata": {},
   "outputs": [],
   "source": [
    "client_id = \"오픈API\"\n",
    "client_secret = \"Secret Code\"\n",
    "\n",
    "keyword_1 = [\"주식\"]\n",
    "keyword_2 = [\"배터리\"]\n",
    "\n",
    "display = 50\n",
    "\n",
    "def news_search(min_name):\n",
    "    encText = urllib.parse.quote(min_name)\n",
    "    url = \"https://openapi.naver.com/v1/search/news.json?query=\" + encText + \\\n",
    "        \"&display=\" + str(display) + \"&sort=date\"\n",
    "    request = urllib.request.Request(url)\n",
    "    request.add_header(\"X-Naver-Client-Id\",client_id)\n",
    "    request.add_header(\"X-Naver-Client-Secret\",client_secret)\n",
    "    \n",
    "    response = urllib.request.urlopen(request)\n",
    "    rescode = response.getcode()\n",
    "    if(rescode==200):\n",
    "        response_body_str = response.read().decode('utf-8')\n",
    "        json_acceptable_string = response_body_str.replace(\"'\", \"\\\"\")\n",
    "        response_body = json.loads(response_body_str)\n",
    "        title_link = {}\n",
    "        for i in range(0, len(response_body['items'])):\n",
    "            title_link[response_body['items'][i]['title']] = \\\n",
    "                response_body['items'][i]['link']\n",
    "        return title_link\n",
    "        \n",
    "    else:\n",
    "        print(\"Error Code:\" + rescode)"
   ]
  },
  {
   "cell_type": "code",
   "execution_count": 3,
   "metadata": {},
   "outputs": [],
   "source": [
    "def get_url(resbody):\n",
    "    title_link = {}\n",
    "    for i in range(0, len(resbody['items'])):\n",
    "        title_link[resbody['items'][i]['title']] = resbody['items'][i]['link']\n",
    "    return title_link"
   ]
  },
  {
   "cell_type": "code",
   "execution_count": 4,
   "metadata": {},
   "outputs": [],
   "source": [
    "def url_to_html(title_links, cur_keyword1):\n",
    "    filename = re.sub(\"[\\/:*?\\\"<>|]\", \"\", cur_keyword1)\n",
    "    f = open(filename + '.html', 'w', encoding = 'UTF-8')\n",
    "    for k in title_links.keys():\n",
    "        f.write(\"<A href=\" + \\\n",
    "               title_links[k] + \">\" + \\\n",
    "                   k + \"</A>\" + \"<br></br>\")"
   ]
  },
  {
   "cell_type": "code",
   "execution_count": 5,
   "metadata": {},
   "outputs": [],
   "source": [
    "def keyword_combined(keyword_1, keyword_2):\n",
    "    for i in range(len(keyword_1)):\n",
    "        title_links = {}\n",
    "        if len(keyword_2) == 0:\n",
    "            title_links = {**title_links, **(news_search(keyword_1[i]))}\n",
    "        else:\n",
    "            for j in range(len(keyword_2)):\n",
    "                title_links = {**title_links, **(news_search(keyword_1[i] + \" \" + keyword_2[j]))}\n",
    "        url_to_html(title_links, keyword_1[i])\n",
    "        \n",
    "if __name__ == '__main__':\n",
    "    keyword_combined(keyword_1, keyword_2)"
   ]
  },
  {
   "cell_type": "code",
   "execution_count": null,
   "metadata": {},
   "outputs": [],
   "source": []
  },
  {
   "cell_type": "code",
   "execution_count": null,
   "metadata": {},
   "outputs": [],
   "source": []
  },
  {
   "cell_type": "code",
   "execution_count": 1,
   "metadata": {},
   "outputs": [
    {
     "ename": "NameError",
     "evalue": "name 'news_data' is not defined",
     "output_type": "error",
     "traceback": [
      "\u001b[1;31m---------------------------------------------------------------------------\u001b[0m",
      "\u001b[1;31mNameError\u001b[0m                                 Traceback (most recent call last)",
      "\u001b[1;32m<ipython-input-1-37964e496847>\u001b[0m in \u001b[0;36m<module>\u001b[1;34m\u001b[0m\n\u001b[0;32m      1\u001b[0m \u001b[0mnaver_news_link\u001b[0m \u001b[1;33m=\u001b[0m \u001b[1;33m[\u001b[0m\u001b[1;33m]\u001b[0m\u001b[1;33m\u001b[0m\u001b[1;33m\u001b[0m\u001b[0m\n\u001b[1;32m----> 2\u001b[1;33m \u001b[1;32mfor\u001b[0m \u001b[0mitem\u001b[0m \u001b[1;32min\u001b[0m \u001b[0mnews_data\u001b[0m\u001b[1;33m[\u001b[0m\u001b[1;36m0\u001b[0m\u001b[1;33m]\u001b[0m\u001b[1;33m[\u001b[0m\u001b[1;34m'items'\u001b[0m\u001b[1;33m]\u001b[0m\u001b[1;33m:\u001b[0m\u001b[1;33m\u001b[0m\u001b[1;33m\u001b[0m\u001b[0m\n\u001b[0m\u001b[0;32m      3\u001b[0m     \u001b[0mlink\u001b[0m \u001b[1;33m=\u001b[0m \u001b[0mitem\u001b[0m\u001b[1;33m[\u001b[0m\u001b[1;34m'link'\u001b[0m\u001b[1;33m]\u001b[0m\u001b[1;33m\u001b[0m\u001b[1;33m\u001b[0m\u001b[0m\n\u001b[0;32m      4\u001b[0m     \u001b[1;32mif\u001b[0m \u001b[1;34m\"naver\"\u001b[0m \u001b[1;32min\u001b[0m \u001b[0mlink\u001b[0m\u001b[1;33m:\u001b[0m\u001b[1;33m\u001b[0m\u001b[1;33m\u001b[0m\u001b[0m\n\u001b[0;32m      5\u001b[0m         \u001b[0mnaver_news_link\u001b[0m\u001b[1;33m.\u001b[0m\u001b[0mappend\u001b[0m\u001b[1;33m(\u001b[0m\u001b[0mlink\u001b[0m\u001b[1;33m)\u001b[0m\u001b[1;33m\u001b[0m\u001b[1;33m\u001b[0m\u001b[0m\n",
      "\u001b[1;31mNameError\u001b[0m: name 'news_data' is not defined"
     ]
    }
   ],
   "source": [
    "# 네이버 뉴스만 추리기\n",
    "naver_news_link = []\n",
    "for item in news_data[0]['items']:\n",
    "    link = item['link']\n",
    "    if \"naver\" in link:\n",
    "        naver_news_link.append(link)"
   ]
  },
  {
   "cell_type": "code",
   "execution_count": null,
   "metadata": {},
   "outputs": [],
   "source": []
  },
  {
   "cell_type": "code",
   "execution_count": null,
   "metadata": {},
   "outputs": [],
   "source": []
  }
 ],
 "metadata": {
  "kernelspec": {
   "display_name": "Python 3",
   "language": "python",
   "name": "python3"
  },
  "language_info": {
   "codemirror_mode": {
    "name": "ipython",
    "version": 3
   },
   "file_extension": ".py",
   "mimetype": "text/x-python",
   "name": "python",
   "nbconvert_exporter": "python",
   "pygments_lexer": "ipython3",
   "version": "3.8.3"
  }
 },
 "nbformat": 4,
 "nbformat_minor": 4
}
