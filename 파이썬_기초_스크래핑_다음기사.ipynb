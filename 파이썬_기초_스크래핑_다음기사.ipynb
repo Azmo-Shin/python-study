{
 "cells": [
  {
   "cell_type": "code",
   "execution_count": 1,
   "metadata": {},
   "outputs": [],
   "source": [
    "import requests\n",
    "import lxml.html\n",
    "import pandas as pd\n",
    "import sqlite3\n",
    "from pandas.io import sql\n",
    "import os"
   ]
  },
  {
   "cell_type": "code",
   "execution_count": 2,
   "metadata": {},
   "outputs": [],
   "source": [
    "# 날짜지정\n",
    "REG_DATE = '20201004'"
   ]
  },
  {
   "cell_type": "code",
   "execution_count": 3,
   "metadata": {},
   "outputs": [
    {
     "name": "stdout",
     "output_type": "stream",
     "text": [
      "https://v.daum.net/v/20201004225701594 [인스타하는법] 잘못보낸 DM,어떡하지? 인스타 메시지 삭제하기\n",
      "https://v.daum.net/v/20201004220552103 한전 5일 베트남 석탄화력소 사업 승인 결정할 듯\n",
      "https://v.daum.net/v/20201004214141877 재롱 떠는 손주 닮은 반려로봇, 가족이 될 수 있을까\n",
      "https://v.daum.net/v/20201004212401700 구글, VR 앱 '데이드림' 안드로이드11 지원 중단\n",
      "https://v.daum.net/v/20201004210302544 [네이버밴드 시작하기] 원하는 밴드 찾아 가입하기\n",
      "https://v.daum.net/v/20201004203743281 스마트폰 '10월 대전' 막오른다\n",
      "https://v.daum.net/v/20201004203004204 삼성, 전세계 공대생이 뽑은 '매력적 직장' 9위..톱50내 유일한 韓기업\n",
      "https://v.daum.net/v/20201004201851059 포스트 코로나 시대, 전기차 충전도 비대면이 대세 [찌릿찌릿(知it智it) 전기 교실]\n",
      "https://v.daum.net/v/20201004190526319 태풍 속 시민 구한 김태섭 경장 등 'LG 의인상'\n",
      "https://v.daum.net/v/20201004190503297 유통가 추석연휴 '반짝 특수'.. 코세페·블프 '릴레이 대목' 맞는다\n",
      "https://v.daum.net/v/20201004190502296 깨끗한 물 집중 연구.. 코웨이 '정수기 심장' 필터 혁신\n",
      "https://v.daum.net/v/20201004190457291 HMM, 컨테이너선 12척 '만선' 새역사\n",
      "https://v.daum.net/v/20201004190455290 미·중, 반도체 지키기 혈안인데.. 정부 뒷짐에 먹구름낀 K-반도체\n",
      "https://v.daum.net/v/20201004190454289 美컨슈머리포트 1위 선정 \"전기·가스레인지도 LG\"\n",
      "https://v.daum.net/v/20201004190452287 3분기 흑자전환 한다지만.. 수요회복 캄캄한 정유업계\n"
     ]
    }
   ],
   "source": [
    "response = requests.get('https://news.daum.net/breakingnews/digital?regDate={}'.format(REG_DATE))                   \n",
    "root = lxml.html.fromstring(response.content)\n",
    "for li in root.xpath('//*[@id=\"mArticle\"]/div[3]/ul/li'): # 기사 제목에 해당하는 li를 불러옴\n",
    "    a = li.xpath('div/strong/a')[0] # 불러온 li중 기사 제목을 찾음\n",
    "    url = a.get('href')\n",
    "    print(url, a.text)"
   ]
  },
  {
   "cell_type": "code",
   "execution_count": null,
   "metadata": {},
   "outputs": [],
   "source": []
  }
 ],
 "metadata": {
  "kernelspec": {
   "display_name": "Python 3",
   "language": "python",
   "name": "python3"
  },
  "language_info": {
   "codemirror_mode": {
    "name": "ipython",
    "version": 3
   },
   "file_extension": ".py",
   "mimetype": "text/x-python",
   "name": "python",
   "nbconvert_exporter": "python",
   "pygments_lexer": "ipython3",
   "version": "3.8.3"
  }
 },
 "nbformat": 4,
 "nbformat_minor": 4
}
