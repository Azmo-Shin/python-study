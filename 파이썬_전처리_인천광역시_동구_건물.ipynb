{
 "cells": [
  {
   "cell_type": "code",
   "execution_count": 1,
   "metadata": {},
   "outputs": [],
   "source": [
    "import pandas as pd"
   ]
  },
  {
   "cell_type": "code",
   "execution_count": null,
   "metadata": {},
   "outputs": [],
   "source": [
    "df1 = pd.read_csv('C:/Users/user/Desktop/인천광역시_빅데이터분석/인천광역시_전기자동차/work/건물_위경도.csv')\n",
    "df1.head()"
   ]
  },
  {
   "cell_type": "code",
   "execution_count": 3,
   "metadata": {},
   "outputs": [
    {
     "data": {
      "text/html": [
       "<div>\n",
       "<style scoped>\n",
       "    .dataframe tbody tr th:only-of-type {\n",
       "        vertical-align: middle;\n",
       "    }\n",
       "\n",
       "    .dataframe tbody tr th {\n",
       "        vertical-align: top;\n",
       "    }\n",
       "\n",
       "    .dataframe thead th {\n",
       "        text-align: right;\n",
       "    }\n",
       "</style>\n",
       "<table border=\"1\" class=\"dataframe\">\n",
       "  <thead>\n",
       "    <tr style=\"text-align: right;\">\n",
       "      <th></th>\n",
       "      <th>건물용도코드</th>\n",
       "      <th>건물일련번호</th>\n",
       "      <th>경도</th>\n",
       "      <th>위도</th>\n",
       "    </tr>\n",
       "  </thead>\n",
       "  <tbody>\n",
       "    <tr>\n",
       "      <th>0</th>\n",
       "      <td>1003</td>\n",
       "      <td>330</td>\n",
       "      <td>126.652147</td>\n",
       "      <td>37.478623</td>\n",
       "    </tr>\n",
       "    <tr>\n",
       "      <th>1</th>\n",
       "      <td>1003</td>\n",
       "      <td>9630</td>\n",
       "      <td>126.652141</td>\n",
       "      <td>37.478681</td>\n",
       "    </tr>\n",
       "    <tr>\n",
       "      <th>2</th>\n",
       "      <td>1000</td>\n",
       "      <td>9629</td>\n",
       "      <td>126.652129</td>\n",
       "      <td>37.478759</td>\n",
       "    </tr>\n",
       "    <tr>\n",
       "      <th>3</th>\n",
       "      <td>16006</td>\n",
       "      <td>328</td>\n",
       "      <td>126.652288</td>\n",
       "      <td>37.478748</td>\n",
       "    </tr>\n",
       "    <tr>\n",
       "      <th>4</th>\n",
       "      <td>16006</td>\n",
       "      <td>332</td>\n",
       "      <td>126.652837</td>\n",
       "      <td>37.478401</td>\n",
       "    </tr>\n",
       "  </tbody>\n",
       "</table>\n",
       "</div>"
      ],
      "text/plain": [
       "   건물용도코드  건물일련번호          경도         위도\n",
       "0    1003     330  126.652147  37.478623\n",
       "1    1003    9630  126.652141  37.478681\n",
       "2    1000    9629  126.652129  37.478759\n",
       "3   16006     328  126.652288  37.478748\n",
       "4   16006     332  126.652837  37.478401"
      ]
     },
     "execution_count": 3,
     "metadata": {},
     "output_type": "execute_result"
    }
   ],
   "source": [
    "df1.rename(columns = {'BDTYP_CD' : '건물용도코드','BUL_MAN_NO' : '건물일련번호'}, inplace = True)\n",
    "df2 = df1[['건물용도코드', '건물일련번호', '경도', '위도']]\n",
    "df2.head()"
   ]
  },
  {
   "cell_type": "code",
   "execution_count": 4,
   "metadata": {},
   "outputs": [
    {
     "data": {
      "text/html": [
       "<div>\n",
       "<style scoped>\n",
       "    .dataframe tbody tr th:only-of-type {\n",
       "        vertical-align: middle;\n",
       "    }\n",
       "\n",
       "    .dataframe tbody tr th {\n",
       "        vertical-align: top;\n",
       "    }\n",
       "\n",
       "    .dataframe thead th {\n",
       "        text-align: right;\n",
       "    }\n",
       "</style>\n",
       "<table border=\"1\" class=\"dataframe\">\n",
       "  <thead>\n",
       "    <tr style=\"text-align: right;\">\n",
       "      <th></th>\n",
       "      <th>건물용도코드</th>\n",
       "      <th>건물일련번호</th>\n",
       "      <th>경도</th>\n",
       "      <th>위도</th>\n",
       "      <th>건물종류</th>\n",
       "      <th>가점척도</th>\n",
       "    </tr>\n",
       "  </thead>\n",
       "  <tbody>\n",
       "    <tr>\n",
       "      <th>0</th>\n",
       "      <td>1003</td>\n",
       "      <td>330</td>\n",
       "      <td>126.652147</td>\n",
       "      <td>37.478623</td>\n",
       "      <td>다가구주택</td>\n",
       "      <td>0</td>\n",
       "    </tr>\n",
       "    <tr>\n",
       "      <th>1</th>\n",
       "      <td>1003</td>\n",
       "      <td>9630</td>\n",
       "      <td>126.652141</td>\n",
       "      <td>37.478681</td>\n",
       "      <td>다가구주택</td>\n",
       "      <td>0</td>\n",
       "    </tr>\n",
       "    <tr>\n",
       "      <th>2</th>\n",
       "      <td>1003</td>\n",
       "      <td>232</td>\n",
       "      <td>126.637319</td>\n",
       "      <td>37.471975</td>\n",
       "      <td>다가구주택</td>\n",
       "      <td>0</td>\n",
       "    </tr>\n",
       "    <tr>\n",
       "      <th>3</th>\n",
       "      <td>1003</td>\n",
       "      <td>234</td>\n",
       "      <td>126.637398</td>\n",
       "      <td>37.472087</td>\n",
       "      <td>다가구주택</td>\n",
       "      <td>0</td>\n",
       "    </tr>\n",
       "    <tr>\n",
       "      <th>4</th>\n",
       "      <td>1003</td>\n",
       "      <td>235</td>\n",
       "      <td>126.637292</td>\n",
       "      <td>37.472091</td>\n",
       "      <td>다가구주택</td>\n",
       "      <td>0</td>\n",
       "    </tr>\n",
       "  </tbody>\n",
       "</table>\n",
       "</div>"
      ],
      "text/plain": [
       "   건물용도코드  건물일련번호          경도         위도   건물종류  가점척도\n",
       "0    1003     330  126.652147  37.478623  다가구주택     0\n",
       "1    1003    9630  126.652141  37.478681  다가구주택     0\n",
       "2    1003     232  126.637319  37.471975  다가구주택     0\n",
       "3    1003     234  126.637398  37.472087  다가구주택     0\n",
       "4    1003     235  126.637292  37.472091  다가구주택     0"
      ]
     },
     "execution_count": 4,
     "metadata": {},
     "output_type": "execute_result"
    }
   ],
   "source": [
    "df3 = pd.read_csv('C:/Users/user/Desktop/workSpace/분석/표준분석모델/천안_전기차/건물가점_전처리.csv')\n",
    "df4 = pd.merge(df2, df3, on='건물용도코드')\n",
    "df4.head()"
   ]
  },
  {
   "cell_type": "code",
   "execution_count": 6,
   "metadata": {},
   "outputs": [],
   "source": [
    "df5 = df4[(df4.가점척도==0)]\n",
    "df5.to_csv('건물0.csv')\n",
    "df6 = df4[(df4.가점척도 == 1)]\n",
    "df6.to_csv('건물1.csv')\n",
    "df7 = df4[(df4.가점척도 == 2)]\n",
    "df7.to_csv('건물2.csv')\n",
    "df8 = df4[(df4.가점척도 == 3)]\n",
    "df8.to_csv('건물3.csv')"
   ]
  },
  {
   "cell_type": "code",
   "execution_count": null,
   "metadata": {},
   "outputs": [],
   "source": []
  }
 ],
 "metadata": {
  "kernelspec": {
   "display_name": "Python 3",
   "language": "python",
   "name": "python3"
  },
  "language_info": {
   "codemirror_mode": {
    "name": "ipython",
    "version": 3
   },
   "file_extension": ".py",
   "mimetype": "text/x-python",
   "name": "python",
   "nbconvert_exporter": "python",
   "pygments_lexer": "ipython3",
   "version": "3.8.3"
  }
 },
 "nbformat": 4,
 "nbformat_minor": 4
}
