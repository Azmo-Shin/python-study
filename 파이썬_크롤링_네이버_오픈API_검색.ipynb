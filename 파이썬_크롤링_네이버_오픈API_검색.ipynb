{
 "cells": [
  {
   "cell_type": "code",
   "execution_count": 9,
   "metadata": {},
   "outputs": [],
   "source": [
    "import os\n",
    "import sys\n",
    "import urllib.request\n",
    "import requests"
   ]
  },
  {
   "cell_type": "code",
   "execution_count": 12,
   "metadata": {},
   "outputs": [],
   "source": [
    "client_id = \"K7bvuwcG_ybWX9__jnjU\"\n",
    "client_secret = \"EP2Nq4SepE\"\n",
    "encText = urllib.parse.quote(\"펌프기계\")\n",
    "url = \"https://openapi.naver.com/v1/search/news?query=\" + encText"
   ]
  },
  {
   "cell_type": "code",
   "execution_count": 22,
   "metadata": {
    "scrolled": true
   },
   "outputs": [
    {
     "name": "stdout",
     "output_type": "stream",
     "text": [
      "{\n",
      "\"lastBuildDate\": \"Thu, 08 Oct 2020 16:43:05 +0900\",\n",
      "\"total\": 24810,\n",
      "\"start\": 1,\n",
      "\"display\": 10,\n",
      "\"items\": [\n",
      "{\n",
      "\"title\": \"[브랜드 히스토리] 영국에서 태어나.. GM, 그리고 스텔란티스의 품에 안긴 ‘...\",\n",
      "\"originallink\": \"https://hankookilbo.com/News/Read/A2020100811120002468?did=NA\",\n",
      "\"link\": \"https://news.naver.com/main/read.nhn?mode=LSD&mid=sec&sid1=101&oid=469&aid=0000542298\",\n",
      "\"description\": \"알렉산더 윌슨(Alexander Wilson)은 ‘알렉스 윌슨 앤 컴퍼니’라는 이름으로 선박용 엔진이나 <b>펌프</b> 등의... 실제 복스홀은 철강 관련 사업으로 사업을 확장하며 각종 <b>기계</b> 부품에 대한 노하우를 적극적으로 확보하게... \",\n",
      "\"pubDate\": \"Thu, 08 Oct 2020 11:22:00 +0900\"\n",
      "\n",
      "},\n",
      "{\n",
      "\"title\": \"[단독] 한노총 건설산업노조 충격의 단톡방 &quot;건설사가 말 안 들으면 크레인 ...\",\n",
      "\"originallink\": \"http://www.thescoop.co.kr/news/articleView.html?idxno=41020\",\n",
      "\"link\": \"http://www.thescoop.co.kr/news/articleView.html?idxno=41020\",\n",
      "\"description\": \"&quot; &quot;F건설 현장, 협의 안 됐으니 <b>펌프</b>카(고층건물에 시멘트나 콘크리트를 타설하는 건설<b>기계</b>) 못 세우게 상시 대기.&quot; &quot;G건설 현장, 오물 처리 제대로 안 된 거 담당공무원 오면 물고 늘어져서 과태료 2000만원 때리라고 해.... \",\n",
      "\"pubDate\": \"Wed, 07 Oct 2020 14:10:00 +0900\"\n",
      "\n",
      "},\n",
      "{\n",
      "\"title\": \"동해시, 하반기 노후경유차 조기폐차 지원 추가 신청\",\n",
      "\"originallink\": \"https://www.pressian.com/pages/articles/2020100711340961472?utm_source=naver&utm_medium=search\",\n",
      "\"link\": \"https://news.naver.com/main/read.nhn?mode=LSD&mid=sec&sid1=102&oid=002&aid=0002153593\",\n",
      "\"description\": \"지원대상은 배출가스 5등급 경유자동차 또는 2005년 이전 배출허용기준을 적용해 제작된 도로용 3종 건설<b>기계</b>(덤프트럭, 콘크리트믹서트럭, 콘크리트<b>펌프</b>트럭) 등이다. 보조금 신청일 전 동해시에 6개월 이상 연속해... \",\n",
      "\"pubDate\": \"Wed, 07 Oct 2020 11:50:00 +0900\"\n",
      "\n",
      "},\n",
      "{\n",
      "\"title\": \"디자인에 신기술 더해져 트렌디해진 러닝화→운동화·스니커즈\",\n",
      "\"originallink\": \"http://digitalchosun.dizzo.com/site/data/html_dir/2020/10/07/2020100780035.html\",\n",
      "\"link\": \"http://digitalchosun.dizzo.com/site/data/html_dir/2020/10/07/2020100780035.html\",\n",
      "\"description\": \"<b>기계</b> 프린팅이 아닌 전문가가 직접 손으로 찍어낸 고어텍스 로고 또한 포인트. 스타일과 기능성의... 이번에 출시하는 ‘프리미어 <b>펌프</b> 파리스(Premier Pump Paris)’와 ‘프리미어 1000(Premier 1000)’은 2000년대 리복을... \",\n",
      "\"pubDate\": \"Wed, 07 Oct 2020 09:44:00 +0900\"\n",
      "\n",
      "},\n",
      "{\n",
      "\"title\": \"봉화군, 산불예방 종합대책 추진\",\n",
      "\"originallink\": \"http://www.nbnnews.co.kr/news/articleView.html?idxno=430310\",\n",
      "\"link\": \"http://www.nbnnews.co.kr/news/articleView.html?idxno=430310\",\n",
      "\"description\": \"아울러 산불무인감시카메라 5대, 산불감시탑 4개소, 산불진화헬기임차 1대, 산불진화차 8대, <b>기계</b>화시스템 및 등짐<b>펌프</b> 등 산불감시장비와 진화장비를 읍·면에 전진배치 하는 등 산불예방과 초기 산불진화에 만전을... \",\n",
      "\"pubDate\": \"Wed, 07 Oct 2020 09:21:00 +0900\"\n",
      "\n",
      "},\n",
      "{\n",
      "\"title\": \"봉화군, 가을철 산불예방 종합대책 추진에 전 행정력 집중\",\n",
      "\"originallink\": \"https://www.news2day.co.kr/161790\",\n",
      "\"link\": \"https://www.news2day.co.kr/161790\",\n",
      "\"description\": \"특히 산불무인감시카메라 5대, 산불감시탑 4개소, 산불진화헬기임차 1대, 산불진화차 8대, <b>기계</b>화시스템 및 등짐<b>펌프</b> 등 산불감시장비와 진화장비를 읍·면에 전진배치 하는 등 산불예방과 초기 산불진화에 만전을... \",\n",
      "\"pubDate\": \"Wed, 07 Oct 2020 06:54:00 +0900\"\n",
      "\n",
      "},\n",
      "{\n",
      "\"title\": \"봉화군, 가을철 산불 예방에 행정력 집중\",\n",
      "\"originallink\": \"http://www.ksmnews.co.kr/default/index_view_page.php?idx=308884&part_idx=170\",\n",
      "\"link\": \"http://www.ksmnews.co.kr/default/index_view_page.php?idx=308884&part_idx=170\",\n",
      "\"description\": \"또한, 산불무인감시카메라 5대, 산불감시탑 4개소, 진화헬기 임차 1대, 산불진화차 8대, <b>기계</b>화시스템 및 등짐<b>펌프</b> 등 산불진화 감시장비를 읍·면에 전진배치한다.이밖에 11월1일~내년 5월15일까지 문수산, 선달산... \",\n",
      "\"pubDate\": \"Tue, 06 Oct 2020 22:05:00 +0900\"\n",
      "\n",
      "},\n",
      "{\n",
      "\"title\": \"&quot;청정 봉화 사수&quot;…가을철 산불예방 행정력 집중\",\n",
      "\"originallink\": \"http://www.idaegu.co.kr/news/articleView.html?idxno=325009\",\n",
      "\"link\": \"http://www.idaegu.co.kr/news/articleView.html?idxno=325009\",\n",
      "\"description\": \"아울러 산불무인감시카메라 5대, 산불감시탑 4개소, 산불진화헬기임차 1대, 산불진화차 8대, <b>기계</b>화시스템 및 등짐<b>펌프</b> 등 산불감시장비와 진화장비를 읍·면에 전진배치 하는 등 산불예방과 초기 산불진화에 만전을... \",\n",
      "\"pubDate\": \"Tue, 06 Oct 2020 20:44:00 +0900\"\n",
      "\n",
      "},\n",
      "{\n",
      "\"title\": \"봉화군, 가을철 산불예방 종합대책 추진\",\n",
      "\"originallink\": \"http://www.dkilbo.com/news/articleView.html?idxno=313186\",\n",
      "\"link\": \"http://www.dkilbo.com/news/articleView.html?idxno=313186\",\n",
      "\"description\": \"아울러 산불무인감시카메라 5대, 산불감시탑 4개소, 산불진화헬기임차 1대, 산불진화차 8대, <b>기계</b>화시스템 및 등짐<b>펌프</b> 등 산불감시장비와 진화장비를 읍·면에 전진배치 하는 등 산불예방과 초기 산불진화에 만전을... \",\n",
      "\"pubDate\": \"Tue, 06 Oct 2020 20:43:00 +0900\"\n",
      "\n",
      "},\n",
      "{\n",
      "\"title\": \"봉화군, 가을철 산불예방 전 행정력 집중\",\n",
      "\"originallink\": \"http://www.kbmaeil.com/news/articleView.html?idxno=857768\",\n",
      "\"link\": \"http://www.kbmaeil.com/news/articleView.html?idxno=857768\",\n",
      "\"description\": \"아울러 산불무인감시카메라 5대, 산불감시탑 4개소, 산불진화헬기임차 1대, 산불진화차 8대, <b>기계</b>화시스템 및 등짐<b>펌프</b> 등 산불감시장비와 진화장비를 읍·면에 전진배치 하는 등 산불예방과 초기 산불진화에 만전을... \",\n",
      "\"pubDate\": \"Tue, 06 Oct 2020 20:20:00 +0900\"\n",
      "\n",
      "}\n",
      "]\n",
      "}\n",
      "\n"
     ]
    }
   ],
   "source": [
    "request = urllib.request.Request(url)\n",
    "request.add_header(\"X-Naver-Client-Id\",client_id)\n",
    "request.add_header(\"X-Naver-Client-Secret\",client_secret)\n",
    "response = urllib.request.urlopen(request)\n",
    "rescode = response.getcode()\n",
    "\n",
    "if(rescode==200):\n",
    "    response_body = response.read()\n",
    "    print(response_body.decode('utf-8'))\n",
    "else:\n",
    "    print(\"Error Code:\" + rescode)"
   ]
  },
  {
   "cell_type": "code",
   "execution_count": 24,
   "metadata": {},
   "outputs": [
    {
     "ename": "NameError",
     "evalue": "name 'append' is not defined",
     "output_type": "error",
     "traceback": [
      "\u001b[1;31m---------------------------------------------------------------------------\u001b[0m",
      "\u001b[1;31mNameError\u001b[0m                                 Traceback (most recent call last)",
      "\u001b[1;32m<ipython-input-24-2dc807f60e7c>\u001b[0m in \u001b[0;36m<module>\u001b[1;34m\u001b[0m\n\u001b[0;32m      8\u001b[0m     result = requests.get(response.geturl(),\\\n\u001b[0;32m      9\u001b[0m                           headers = {\"X-Naver-Client-Id\":client_id, \"X-Naver-Client-Secret\":client_secret})\n\u001b[1;32m---> 10\u001b[1;33m     \u001b[0mnews_data\u001b[0m \u001b[1;33m=\u001b[0m \u001b[0mappend\u001b[0m\u001b[1;33m(\u001b[0m\u001b[0mresult\u001b[0m\u001b[1;33m.\u001b[0m\u001b[0mjson\u001b[0m\u001b[1;33m(\u001b[0m\u001b[1;33m)\u001b[0m\u001b[1;33m)\u001b[0m\u001b[1;33m\u001b[0m\u001b[1;33m\u001b[0m\u001b[0m\n\u001b[0m",
      "\u001b[1;31mNameError\u001b[0m: name 'append' is not defined"
     ]
    }
   ],
   "source": [
    "request = urllib.request.Request(url)\n",
    "request.add_header(\"X-Naver-Client-Id\",client_id)\n",
    "request.add_header(\"X-Naver-Client-Secret\",client_secret)\n",
    "response = urllib.request.urlopen(request)\n",
    "rescode = response.getcode()\n",
    "\n",
    "if(rescode==200):\n",
    "    result = requests.get(response.geturl(),\\\n",
    "                          headers = {\"X-Naver-Client-Id\":client_id, \"X-Naver-Client-Secret\":client_secret})\n",
    "    news_data.append(result.json())"
   ]
  },
  {
   "cell_type": "code",
   "execution_count": 23,
   "metadata": {},
   "outputs": [
    {
     "ename": "NameError",
     "evalue": "name 'news_data' is not defined",
     "output_type": "error",
     "traceback": [
      "\u001b[1;31m---------------------------------------------------------------------------\u001b[0m",
      "\u001b[1;31mNameError\u001b[0m                                 Traceback (most recent call last)",
      "\u001b[1;32m<ipython-input-23-37964e496847>\u001b[0m in \u001b[0;36m<module>\u001b[1;34m\u001b[0m\n\u001b[0;32m      1\u001b[0m \u001b[0mnaver_news_link\u001b[0m \u001b[1;33m=\u001b[0m \u001b[1;33m[\u001b[0m\u001b[1;33m]\u001b[0m\u001b[1;33m\u001b[0m\u001b[1;33m\u001b[0m\u001b[0m\n\u001b[1;32m----> 2\u001b[1;33m \u001b[1;32mfor\u001b[0m \u001b[0mitem\u001b[0m \u001b[1;32min\u001b[0m \u001b[0mnews_data\u001b[0m\u001b[1;33m[\u001b[0m\u001b[1;36m0\u001b[0m\u001b[1;33m]\u001b[0m\u001b[1;33m[\u001b[0m\u001b[1;34m'items'\u001b[0m\u001b[1;33m]\u001b[0m\u001b[1;33m:\u001b[0m\u001b[1;33m\u001b[0m\u001b[1;33m\u001b[0m\u001b[0m\n\u001b[0m\u001b[0;32m      3\u001b[0m     \u001b[0mlink\u001b[0m \u001b[1;33m=\u001b[0m \u001b[0mitem\u001b[0m\u001b[1;33m[\u001b[0m\u001b[1;34m'link'\u001b[0m\u001b[1;33m]\u001b[0m\u001b[1;33m\u001b[0m\u001b[1;33m\u001b[0m\u001b[0m\n\u001b[0;32m      4\u001b[0m     \u001b[1;32mif\u001b[0m \u001b[1;34m\"naver\"\u001b[0m \u001b[1;32min\u001b[0m \u001b[0mlink\u001b[0m\u001b[1;33m:\u001b[0m\u001b[1;33m\u001b[0m\u001b[1;33m\u001b[0m\u001b[0m\n\u001b[0;32m      5\u001b[0m         \u001b[0mnaver_news_link\u001b[0m\u001b[1;33m.\u001b[0m\u001b[0mappend\u001b[0m\u001b[1;33m(\u001b[0m\u001b[0mlink\u001b[0m\u001b[1;33m)\u001b[0m\u001b[1;33m\u001b[0m\u001b[1;33m\u001b[0m\u001b[0m\n",
      "\u001b[1;31mNameError\u001b[0m: name 'news_data' is not defined"
     ]
    }
   ],
   "source": [
    "naver_news_link = []\n",
    "for item in news_data[0]['items']:\n",
    "    link = item['link']\n",
    "    if \"naver\" in link:\n",
    "        naver_news_link.append(link)"
   ]
  }
 ],
 "metadata": {
  "kernelspec": {
   "display_name": "Python 3",
   "language": "python",
   "name": "python3"
  },
  "language_info": {
   "codemirror_mode": {
    "name": "ipython",
    "version": 3
   },
   "file_extension": ".py",
   "mimetype": "text/x-python",
   "name": "python",
   "nbconvert_exporter": "python",
   "pygments_lexer": "ipython3",
   "version": "3.8.3"
  }
 },
 "nbformat": 4,
 "nbformat_minor": 4
}
