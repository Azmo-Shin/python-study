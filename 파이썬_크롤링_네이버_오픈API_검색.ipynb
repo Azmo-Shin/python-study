{
 "cells": [
  {
   "cell_type": "code",
   "execution_count": 5,
   "metadata": {},
   "outputs": [],
   "source": [
    "import os\n",
    "import sys\n",
    "import urllib.request\n",
    "import requests"
   ]
  },
  {
   "cell_type": "code",
   "execution_count": 6,
   "metadata": {},
   "outputs": [],
   "source": [
    "news_data = []\n",
    "page_count = 3\n",
    "\n",
    "client_id = \"네이버 오픈 API ID\"\n",
    "client_secret = \"네이버 오픈 API SECRET\"\n",
    "encText = urllib.parse.quote(\"배터리 주식\")\n",
    "\n",
    "url = \"https://openapi.naver.com/v1/search/news?query=\" + encText"
   ]
  },
  {
   "cell_type": "code",
   "execution_count": 7,
   "metadata": {
    "scrolled": true
   },
   "outputs": [
    {
     "name": "stdout",
     "output_type": "stream",
     "text": [
      "{\n",
      "\"lastBuildDate\": \"Tue, 13 Oct 2020 17:43:40 +0900\",\n",
      "\"total\": 20324,\n",
      "\"start\": 1,\n",
      "\"display\": 10,\n",
      "\"items\": [\n",
      "{\n",
      "\"title\": \"'중국판 테슬라' 니오, 전기차 판매 급증에 '고공질주'\",\n",
      "\"originallink\": \"https://www.hankyung.com/finance/article/2020101347001\",\n",
      "\"link\": \"https://news.naver.com/main/read.nhn?mode=LSD&mid=sec&sid1=101&oid=015&aid=0004431040\",\n",
      "\"description\": \"구독형 <b>배터리</b> 대여 서비스를 기반으로 프리미엄 전기차 시장에서 공고한 지위를 유지하고... 진현우 미래에셋대우 연구원은 “신차 EC6에 구독형 <b>배터리</b> 대여 서비스가 적용되면서 가격 경쟁력이 높아졌다”고... \",\n",
      "\"pubDate\": \"Tue, 13 Oct 2020 17:30:00 +0900\"\n",
      "\n",
      "},\n",
      "{\n",
      "\"title\": \"국민연금, 3분기 엔터·게임株 사고 화학·석유 팔았다\",\n",
      "\"originallink\": \"http://daily.hankooki.com/lpage/finance/202010/dh20201013164018148310.htm?s_ref=nv\",\n",
      "\"link\": \"http://daily.hankooki.com/lpage/finance/202010/dh20201013164018148310.htm?s_ref=nv\",\n",
      "\"description\": \"<b>배터리</b> 부문 분사를 추진 중인 LG화학(11.06%→10.57%), 비대면 대표기업인 네이버(12.85%→12.29%)·카카오(9.90%→8.47%) 등 대부분 종목의 보유 비중이 줄었다. 국민연금이 5% 이상 지분을 보유한 종목의 <b>주식</b>... \",\n",
      "\"pubDate\": \"Tue, 13 Oct 2020 16:46:00 +0900\"\n",
      "\n",
      "},\n",
      "{\n",
      "\"title\": \"[여의도 머니톡톡] 지수 상승에 '매도랠리' 벌이는 '개미'\",\n",
      "\"originallink\": \"http://www.dtoday.co.kr/news/articleView.html?idxno=383575\",\n",
      "\"link\": \"http://www.dtoday.co.kr/news/articleView.html?idxno=383575\",\n",
      "\"description\": \"13일 한국 <b>주식</b>시장은 전일 미국 시장이 기술주 중심의 나스닥이 2.56% 상승하는 등 급등세를 보였음에도... 한 <b>배터리</b> 종목의 추가 호재 소멸 등이 복합적으로 반영되고 있다&quot;고 설명했다. 그러면서 &quot;외국인들의 자금이... \",\n",
      "\"pubDate\": \"Tue, 13 Oct 2020 16:14:00 +0900\"\n",
      "\n",
      "},\n",
      "{\n",
      "\"title\": \"앱코 오엘라, 네오스핀 무선 욕실청소기 핸디형 출시\",\n",
      "\"originallink\": \"http://www.fntoday.co.kr/news/articleView.html?idxno=235447\",\n",
      "\"link\": \"http://www.fntoday.co.kr/news/articleView.html?idxno=235447\",\n",
      "\"description\": \"삶의 새로운 패러다임, 뉴 라이프 플랫폼(New Life Platform)을 만들어가는 <b>주식</b>회사 앱코(대표이사 오광근)의... 작은 사이즈지만 <b>배터리</b> 용량은 2,000mAh 용량을 지원해 한 번의 충전으로 최대 110분의 사용이 가능하며, USB-C... \",\n",
      "\"pubDate\": \"Tue, 13 Oct 2020 16:01:00 +0900\"\n",
      "\n",
      "},\n",
      "{\n",
      "\"title\": \"국민연금, 3분기에 엔터·게임株 사고 화학·석유 팔았다\",\n",
      "\"originallink\": \"http://www.fntoday.co.kr/news/articleView.html?idxno=235466\",\n",
      "\"link\": \"http://www.fntoday.co.kr/news/articleView.html?idxno=235466\",\n",
      "\"description\": \"<b>배터리</b> 부문 분사를 추진 중인 LG화학(11.06%→10.57%), 비대면 대표기업인 네이버(12.85%→12.29%)·카카오(9.90%→8.47%) 등도 감소했다. 국민연금이 5% 이상 지분을 보유한 종목의 <b>주식</b> 평가액은 지난 12일 종가... \",\n",
      "\"pubDate\": \"Tue, 13 Oct 2020 16:01:00 +0900\"\n",
      "\n",
      "},\n",
      "{\n",
      "\"title\": \"국민연금, 3분기 '엔터·게임株' 담고 '화학·석유株' 털었다\",\n",
      "\"originallink\": \"http://www.m-i.kr/news/articleView.html?idxno=753772\",\n",
      "\"link\": \"http://www.m-i.kr/news/articleView.html?idxno=753772\",\n",
      "\"description\": \"<b>배터리</b> 부문 분사를 추진 중인 LG화학(11.06%→10.57%), 비대면 대표기업인 네이버(12.85%→12.29%)·카카오(9.90%→8.47%) 등도 감소한 걸로 나타났다. 국민연금이 5% 이상 지분을 보유한 종목의 <b>주식</b> 평가액은 지난... \",\n",
      "\"pubDate\": \"Tue, 13 Oct 2020 15:54:00 +0900\"\n",
      "\n",
      "},\n",
      "{\n",
      "\"title\": \"&lt;딜링룸 백브리핑&gt; 佛 파리 투자은행, 코로나 재확산에 다시 재택근무 체제로\",\n",
      "\"originallink\": \"http://news.einfomax.co.kr/news/articleView.html?idxno=4111732\",\n",
      "\"link\": \"http://news.einfomax.co.kr/news/articleView.html?idxno=4111732\",\n",
      "\"description\": \"최근 <b>주식</b>을 149만달러(약 17억원)어치 매각한 것으로 보고됐다. 재단은 지난 7월에도 버크셔 <b>주식</b>을... N95필터와 <b>배터리</b> 충전식 선풍기도 마스크 필터 교체용과 공기 정화용으로 판매된다. 현재 회사의 매장은 뉴욕과... \",\n",
      "\"pubDate\": \"Tue, 13 Oct 2020 15:37:00 +0900\"\n",
      "\n",
      "},\n",
      "{\n",
      "\"title\": \"힘 쎄진 '동학개미'... 증시·정책·출판계까지 쥐락펴락\",\n",
      "\"originallink\": \"https://www.sedaily.com/NewsView/1Z9464ZGWT\",\n",
      "\"link\": \"https://news.naver.com/main/read.nhn?mode=LSD&mid=sec&sid1=101&oid=011&aid=0003810030\",\n",
      "\"description\": \"연초부터 올 8월까지 신규 <b>주식</b>계좌가 1,100만개 불어나며 이해관계를 공유하는 개인 투자자의 입김이 세진... 지난달 <b>배터리</b> 사업부의 분사 추진 소식이 알려진 후 동학개미에게 제대로 찍힌 LG화학는 주가 상승 동력이... \",\n",
      "\"pubDate\": \"Tue, 13 Oct 2020 14:31:00 +0900\"\n",
      "\n",
      "},\n",
      "{\n",
      "\"title\": \"[중국 마이종목]리튬<b>배터리</b>에 쏠리는 눈...자위안커지 '드라이브'\",\n",
      "\"originallink\": \"http://www.ajunews.com/view/20201013104941313\",\n",
      "\"link\": \"http://www.ajunews.com/view/20201013104941313\",\n",
      "\"description\": \"com ※'중국 마이종목'은 <b>주식</b>시장에서 이슈가 되는 중국 종목을 소개하는 코너입니다. '마이'는... [편집자 주] 자위안커지 종목.[자료=중인증권 보고서] 중국 리튬<b>배터리</b> 제조업체 자위안커지(嘉元科技, 688388... \",\n",
      "\"pubDate\": \"Tue, 13 Oct 2020 14:13:00 +0900\"\n",
      "\n",
      "},\n",
      "{\n",
      "\"title\": \"LG화학 때이른 실적 발표 '주주 가치 훼손' 논란 여전\",\n",
      "\"originallink\": \"http://www.ekoreanews.co.kr/news/articleView.html?idxno=46474\",\n",
      "\"link\": \"http://www.ekoreanews.co.kr/news/articleView.html?idxno=46474\",\n",
      "\"description\": \"예상보다 이른 깜짝 실적발표로 주주 달래기에 나섰지만, <b>배터리</b> 분사로 돌아선 투자자들의 마음을 돌리지... 실제 <b>주식</b> 관련 커뮤니티에서는 LG화학의 실적발표에 대해 냉담한 반응을 보이는 투자자들이 눈에 띤다.... \",\n",
      "\"pubDate\": \"Tue, 13 Oct 2020 13:35:00 +0900\"\n",
      "\n",
      "}\n",
      "]\n",
      "}\n",
      "\n"
     ]
    }
   ],
   "source": [
    "request = urllib.request.Request(url)\n",
    "request.add_header(\"X-Naver-Client-Id\",client_id)\n",
    "request.add_header(\"X-Naver-Client-Secret\",client_secret)\n",
    "display = '50'\n",
    "\n",
    "response = urllib.request.urlopen(request)\n",
    "rescode = response.getcode()\n",
    "\n",
    "if(rescode==200):\n",
    "    response_body = response.read()\n",
    "    print(response_body.decode('utf-8'))\n",
    "else:\n",
    "    print(\"Error Code:\" + rescode)"
   ]
  },
  {
   "cell_type": "code",
   "execution_count": 9,
   "metadata": {},
   "outputs": [],
   "source": [
    "request = urllib.request.Request(url)\n",
    "request.add_header(\"X-Naver-Client-Id\",client_id)\n",
    "request.add_header(\"X-Naver-Client-Secret\",client_secret)\n",
    "response = urllib.request.urlopen(request)\n",
    "rescode = response.getcode()\n",
    "\n",
    "if(rescode==200):\n",
    "    result = requests.get(response.geturl(),\\\n",
    "                          headers = {\"X-Naver-Client-Id\":client_id, \"X-Naver-Client-Secret\":client_secret})\n",
    "    news_data.append(result.json())"
   ]
  },
  {
   "cell_type": "code",
   "execution_count": 10,
   "metadata": {},
   "outputs": [],
   "source": [
    "naver_news_link = []\n",
    "for item in news_data[0]['items']:\n",
    "    link = item['link']\n",
    "    if \"naver\" in link:\n",
    "        naver_news_link.append(link)"
   ]
  },
  {
   "cell_type": "code",
   "execution_count": 11,
   "metadata": {},
   "outputs": [
    {
     "name": "stdout",
     "output_type": "stream",
     "text": [
      "['https://news.naver.com/main/read.nhn?mode=LSD&mid=sec&sid1=101&oid=015&aid=0004431040', 'https://news.naver.com/main/read.nhn?mode=LSD&mid=sec&sid1=101&oid=011&aid=0003810030']\n"
     ]
    }
   ],
   "source": [
    "print(naver_news_link)"
   ]
  },
  {
   "cell_type": "code",
   "execution_count": null,
   "metadata": {},
   "outputs": [],
   "source": []
  }
 ],
 "metadata": {
  "kernelspec": {
   "display_name": "Python 3",
   "language": "python",
   "name": "python3"
  },
  "language_info": {
   "codemirror_mode": {
    "name": "ipython",
    "version": 3
   },
   "file_extension": ".py",
   "mimetype": "text/x-python",
   "name": "python",
   "nbconvert_exporter": "python",
   "pygments_lexer": "ipython3",
   "version": "3.8.3"
  }
 },
 "nbformat": 4,
 "nbformat_minor": 4
}
