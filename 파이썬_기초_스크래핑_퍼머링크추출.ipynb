{
 "cells": [
  {
   "cell_type": "code",
   "execution_count": 5,
   "metadata": {},
   "outputs": [],
   "source": [
    "import requests\n",
    "import lxml.html"
   ]
  },
  {
   "cell_type": "code",
   "execution_count": 6,
   "metadata": {},
   "outputs": [],
   "source": [
    "def main():\n",
    "    \"\"\"\n",
    "    크롤러의 메인 처리\n",
    "    \"\"\"\n",
    "    # 여러 페이지에서 크롤링을 위해 Session 사용\n",
    "    session = requests.Session()  \n",
    "    # scrape_list_page() 함수를 호출해서 제너레이터를 추출\n",
    "    response = session.get('http://www.hanbit.co.kr/store/books/new_book_list.html')\n",
    "    urls = scrape_list_page(response)\n",
    "    # 제너레이터는 list처럼 사용 가능\n",
    "    for url in urls:\n",
    "        print(url) # 이 url은 상대 url 앞으로 이것을 절대 url로 바꿔야 함.\n",
    "        print('-'*70)"
   ]
  },
  {
   "cell_type": "code",
   "execution_count": 7,
   "metadata": {},
   "outputs": [],
   "source": [
    "def scrape_list_page(response):\n",
    "    root = lxml.html.fromstring(response.content)\n",
    "    root.make_links_absolute(response.url)\n",
    "    for a in root.cssselect('.view_box .book_tit a'): # a에 .view_box a를 저장\n",
    "        url = a.get('href') # 저장된 a에서 href를 url에 저장\n",
    "        # yield 구문으로 제너레이터의 요소 반환\n",
    "        yield url"
   ]
  },
  {
   "cell_type": "code",
   "execution_count": 8,
   "metadata": {},
   "outputs": [
    {
     "name": "stdout",
     "output_type": "stream",
     "text": [
      "https://www.hanbit.co.kr/store/books/look.php?p_code=B7269609529\n",
      "----------------------------------------------------------------------\n",
      "https://www.hanbit.co.kr/store/books/look.php?p_code=B1303121763\n",
      "----------------------------------------------------------------------\n",
      "https://www.hanbit.co.kr/store/books/look.php?p_code=B9696096335\n",
      "----------------------------------------------------------------------\n",
      "https://www.hanbit.co.kr/store/books/look.php?p_code=B5654500071\n",
      "----------------------------------------------------------------------\n",
      "https://www.hanbit.co.kr/store/books/look.php?p_code=B4595034178\n",
      "----------------------------------------------------------------------\n",
      "https://www.hanbit.co.kr/store/books/look.php?p_code=B4792640793\n",
      "----------------------------------------------------------------------\n",
      "https://www.hanbit.co.kr/store/books/look.php?p_code=B2916452728\n",
      "----------------------------------------------------------------------\n",
      "https://www.hanbit.co.kr/store/books/look.php?p_code=B6503201303\n",
      "----------------------------------------------------------------------\n",
      "https://www.hanbit.co.kr/store/books/look.php?p_code=B9058586817\n",
      "----------------------------------------------------------------------\n",
      "https://www.hanbit.co.kr/store/books/look.php?p_code=B3137824436\n",
      "----------------------------------------------------------------------\n",
      "https://www.hanbit.co.kr/store/books/look.php?p_code=B2728411076\n",
      "----------------------------------------------------------------------\n",
      "https://www.hanbit.co.kr/store/books/look.php?p_code=B1967812795\n",
      "----------------------------------------------------------------------\n",
      "https://www.hanbit.co.kr/store/books/look.php?p_code=B8115627505\n",
      "----------------------------------------------------------------------\n",
      "https://www.hanbit.co.kr/store/books/look.php?p_code=B1851418066\n",
      "----------------------------------------------------------------------\n",
      "https://www.hanbit.co.kr/store/books/look.php?p_code=B9143267027\n",
      "----------------------------------------------------------------------\n",
      "https://www.hanbit.co.kr/store/books/look.php?p_code=B3517216657\n",
      "----------------------------------------------------------------------\n",
      "https://www.hanbit.co.kr/store/books/look.php?p_code=B4872223435\n",
      "----------------------------------------------------------------------\n",
      "https://www.hanbit.co.kr/store/books/look.php?p_code=B9279330130\n",
      "----------------------------------------------------------------------\n",
      "https://www.hanbit.co.kr/store/books/look.php?p_code=B6787201225\n",
      "----------------------------------------------------------------------\n",
      "https://www.hanbit.co.kr/store/books/look.php?p_code=B3963656224\n",
      "----------------------------------------------------------------------\n"
     ]
    }
   ],
   "source": [
    "if __name__ == '__main__':\n",
    "    main()"
   ]
  },
  {
   "cell_type": "code",
   "execution_count": null,
   "metadata": {},
   "outputs": [],
   "source": []
  }
 ],
 "metadata": {
  "kernelspec": {
   "display_name": "Python 3",
   "language": "python",
   "name": "python3"
  },
  "language_info": {
   "codemirror_mode": {
    "name": "ipython",
    "version": 3
   },
   "file_extension": ".py",
   "mimetype": "text/x-python",
   "name": "python",
   "nbconvert_exporter": "python",
   "pygments_lexer": "ipython3",
   "version": "3.8.3"
  }
 },
 "nbformat": 4,
 "nbformat_minor": 4
}
